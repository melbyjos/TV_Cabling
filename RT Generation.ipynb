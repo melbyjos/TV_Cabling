{
 "cells": [
  {
   "cell_type": "code",
   "execution_count": 1,
   "metadata": {},
   "outputs": [],
   "source": [
    "import numpy as np\n",
    "import scipy as sp\n",
    "import time\n",
    "\n",
    "import matplotlib.pyplot as plt\n",
    "import sklearn\n",
    "from sklearn.linear_model import LinearRegression\n",
    "\n",
    "\n",
    "np.set_printoptions(precision=1)"
   ]
  },
  {
   "cell_type": "code",
   "execution_count": 2,
   "metadata": {},
   "outputs": [],
   "source": [
    "for m in range(6,25):\n",
    "    pairs = []\n",
    "    for i in range(2,m+1):\n",
    "        pairs.append([i,m-i+2])\n",
    "    #print(len(pairs))     "
   ]
  },
  {
   "cell_type": "code",
   "execution_count": 3,
   "metadata": {},
   "outputs": [],
   "source": [
    "def A(r):\n",
    "    return np.exp(np.pi*1j/r)\n",
    "\n",
    "def S(i):\n",
    "    arr = []\n",
    "    k = -(i-1)/2\n",
    "    for j in range(i):\n",
    "        arr.append(k)\n",
    "        k = k+1\n",
    "    return arr\n",
    "\n"
   ]
  },
  {
   "cell_type": "code",
   "execution_count": 4,
   "metadata": {},
   "outputs": [],
   "source": [
    "def RTpower3(r,p,i,k):\n",
    "    power = int((p*3*(i**2-1)/2-2*p*k*(3*k+1))%(2*r))\n",
    "    vec = abs(int(2*3*k+1))\n",
    "    if abs(int(2*3*k+1))%r ==0:\n",
    "        return \"e_0\"\n",
    "    elif int(2*3*k+1)<0:\n",
    "        return power, vec, -1\n",
    "    else:\n",
    "        return power, vec\n",
    "    \n",
    "def RTpower_quotient3(r,p,i,k):\n",
    "    m = int((r-1)/2)\n",
    "    power = int((p*3*(i**2-1)/2-2*p*k*(3*k+1))%(2*r))\n",
    "    vec = int(2*3*k+1)\n",
    "    sign = 1\n",
    "    if vec < 0:\n",
    "        vec = -vec\n",
    "        sign = -sign\n",
    "    if abs(int(2*3*k+1))%r == 0:\n",
    "        power = 0\n",
    "        vec = 0\n",
    "        sign = 0\n",
    "    elif 1<= vec <= m:\n",
    "        vec = vec\n",
    "        sign = sign\n",
    "    elif m < vec <= r:\n",
    "        vec = -(int(vec-r))\n",
    "    elif r < vec <= r+m:\n",
    "        vec = vec - r\n",
    "        sign = -sign\n",
    "    else:\n",
    "        print(\"Something went wrong with e_%s at k = %s\" % (i,k))\n",
    "        \n",
    "    return power, vec, sign\n",
    "\n",
    "def RT3(r,p):\n",
    "    t0 = time.time()\n",
    "    m = (r-1)//2\n",
    "    #print(m)\n",
    "    mat = np.zeros(shape=(m,m))\n",
    "    for i in range(1,m+1):\n",
    "        #print(\"i = %s\" % i)\n",
    "        e_i = [[RTpower_quotient3(r,p,i,k)[0], RTpower_quotient3(r,p,i,k)[1],RTpower_quotient3(r,p,i,k)[2]] for k in S(i)]\n",
    "        while [0,0,0] in e_i:\n",
    "            e_i.remove([0,0,0])  \n",
    "        for triple1 in e_i:\n",
    "            for triple2 in e_i:\n",
    "                if triple1[1] == triple2[1]:\n",
    "                    if triple1[0]==triple2[0]:\n",
    "                        if triple1[2]==(-1)*triple2[2]:\n",
    "                            e_i.remove(triple1)\n",
    "                            e_i.remove(triple2)\n",
    "                            if triple1[2]!=(-1)*triple2[2]: \n",
    "                                print(\"Not a ROU\")\n",
    "        e_i_pwr = [1 for e in e_i]\n",
    "        #e_i_pwr = [e[0]*e[2] for e in e_i]\n",
    "        e_i_vec = [e[1] for e in e_i]\n",
    "        for l in range(len(e_i_vec)):\n",
    "            for j in range(1,m+1):\n",
    "                if j == e_i_vec[l]:\n",
    "                    mat[i-1,j-1] = e_i_pwr[l]\n",
    "        for triple in e_i:\n",
    "            if triple[0] == 0:\n",
    "                #print(triple[1])\n",
    "                #print(\"i = %s .....\" % i)\n",
    "                mat[i-1,triple[1]-1] = 1\n",
    "                if i !=1 and triple[1] !=1:\n",
    "                    print(\"Index (%s, %s) is actually 1\" % (i-1,triple[1]-1))\n",
    "    t1 = time.time()-t0\n",
    "    #print(\"r = %s: %s seconds\" % (r,t1))\n",
    "    return np.array(np.transpose(mat), dtype = int)\n",
    "\n",
    "def RT_ROU3(r,p):\n",
    "    t0 = time.time()\n",
    "    m = (r-1)//2\n",
    "    mat = np.zeros(shape=(m,m), dtype=complex)\n",
    "    for i in range(1,m+1):\n",
    "        e_i = [[RTpower_quotient3(r,p,i,k)[0], RTpower_quotient3(r,p,i,k)[1],RTpower_quotient3(r,p,i,k)[2]] for k in S(i)]\n",
    "        while [0,0,0] in e_i:\n",
    "            e_i.remove([0,0,0])\n",
    "        for triple1 in e_i:\n",
    "            for triple2 in e_i:\n",
    "                if triple1[1] == triple2[1]:\n",
    "                    if triple1[0]==triple2[0]:\n",
    "                        if triple1[2]==(-1)*triple2[2]:\n",
    "                            e_i.remove(triple1)\n",
    "                            e_i.remove(triple2)\n",
    "                            if triple1[2]!=(-1)*triple2[2]: \n",
    "                                print(\"Not a ROU\")\n",
    "        e_i_pwr = [e[0]*e[2] for e in e_i]\n",
    "        e_i_vec = [e[1] for e in e_i]\n",
    "        for l in range(len(e_i_vec)):\n",
    "            for j in range(1,m+1):\n",
    "                if j == e_i_vec[l]:\n",
    "                    mat[i-1,j-1] = A(r)**e_i_pwr[l]\n",
    "        for triple in e_i:\n",
    "            if triple[0] == 0:\n",
    "                mat[i-1,triple[1]-1] = 1\n",
    "    t1 = time.time()-t0\n",
    "    #print(\"r = %s: %s seconds\" % (r,t1))\n",
    "    return np.transpose(mat)\n"
   ]
  },
  {
   "cell_type": "code",
   "execution_count": 5,
   "metadata": {},
   "outputs": [],
   "source": [
    "for r in range(3,255,2):\n",
    "    for p in range(2,99):\n",
    "        if r%3 != 0 and p%3 != 0:   \n",
    "            det = np.linalg.det(RT_ROU3(r,p))\n",
    "            if det == 0:\n",
    "                print(\"r=%s\" % r)\n",
    "                print(det)\n",
    "                print(\"--------------\")"
   ]
  },
  {
   "cell_type": "code",
   "execution_count": 9,
   "metadata": {},
   "outputs": [
    {
     "data": {
      "text/plain": [
       "(2, 2, 1)"
      ]
     },
     "execution_count": 9,
     "metadata": {},
     "output_type": "execute_result"
    }
   ],
   "source": [
    "RTpower_quotient3(9,2,1,1)"
   ]
  },
  {
   "cell_type": "code",
   "execution_count": 11,
   "metadata": {},
   "outputs": [
    {
     "name": "stdout",
     "output_type": "stream",
     "text": [
      "[[0, 1, 1]]\n",
      "[[8, 2, -1], [4, 4, 1]]\n",
      "[[16, 5, -1], [24, 1, 1], [8, 7, 1]]\n",
      "[[24, 7, -1], [14, 2, -1], [10, 4, 1], [12, 5, 1]]\n",
      "[[2, 4, -1], [4, 5, -1], [12, 1, 1], [26, 7, 1], [16, 2, 1]]\n",
      "[[10, 1, -1], [24, 7, -1], [14, 2, -1], [10, 4, 1], [12, 5, 1], [20, 1, -1]]\n",
      "[[18, 2, 1], [14, 4, -1], [16, 5, -1], [24, 1, 1], [8, 7, 1], [28, 2, 1], [24, 4, -1]]\n"
     ]
    },
    {
     "data": {
      "text/plain": [
       "array([[ 1. +0.j ,  0. +0.j ,  0.3-1.j ,  0. +0.j , -0.8+0.6j, -0.5+0.9j,\n",
       "         0.3-1.j ],\n",
       "       [ 0. +0.j , -0.1-1.j ,  0. +0.j , -1. -0.2j, -1. -0.2j, -1. -0.2j,\n",
       "         0.9-0.4j],\n",
       "       [ 0. +0.j ,  0. +0.j ,  0. +0.j ,  0. +0.j ,  0. +0.j ,  0. +0.j ,\n",
       "         0. +0.j ],\n",
       "       [ 0. +0.j ,  0.7+0.7j,  0. +0.j , -0.5+0.9j,  0.9-0.4j, -0.5+0.9j,\n",
       "         0.3+1.j ],\n",
       "       [ 0. +0.j ,  0. +0.j , -1. +0.2j, -0.8+0.6j,  0.7-0.7j, -0.8+0.6j,\n",
       "        -1. +0.2j],\n",
       "       [ 0. +0.j ,  0. +0.j ,  0. +0.j ,  0. +0.j ,  0. +0.j ,  0. +0.j ,\n",
       "         0. +0.j ],\n",
       "       [ 0. +0.j ,  0. +0.j , -0.1+1.j ,  0.3+1.j ,  0.7-0.7j,  0.3+1.j ,\n",
       "        -0.1+1.j ]])"
      ]
     },
     "execution_count": 11,
     "metadata": {},
     "output_type": "execute_result"
    }
   ],
   "source": [
    "RT_ROU3(15,2)"
   ]
  },
  {
   "cell_type": "code",
   "execution_count": null,
   "metadata": {},
   "outputs": [],
   "source": []
  },
  {
   "cell_type": "code",
   "execution_count": null,
   "metadata": {},
   "outputs": [],
   "source": []
  },
  {
   "cell_type": "code",
   "execution_count": 24,
   "metadata": {},
   "outputs": [],
   "source": [
    "def RTpower(r,p,q,i,k):\n",
    "    power = int((p*q*(i**2-1)/2-2*p*k*(q*k+1))%(2*r))\n",
    "    vec = abs(int(2*q*k+1))\n",
    "    if abs(int(2*q*k+1))%r ==0:\n",
    "        return \"e_0\"\n",
    "    elif int(2*q*k+1)<0:\n",
    "        return power, vec, -1\n",
    "    else:\n",
    "        return power, vec\n",
    "    \n",
    "def RTpower_quotient(r,p,q,i,k):\n",
    "    m = int((r-1)/2)\n",
    "    power = int((p*q*(i**2-1)/2-2*p*k*(q*k+1))%(2*r))\n",
    "    #print(power)\n",
    "    vec = int(2*q*k+1)\n",
    "    #print(vec)\n",
    "    sign = 1\n",
    "    if vec < 0:\n",
    "        vec = -vec\n",
    "        sign = -sign\n",
    "    if abs(int(2*q*k+1))%r == 0:\n",
    "        power = 0\n",
    "        vec = 0\n",
    "        sign = 0\n",
    "    elif 1<= vec <= m:\n",
    "        vec = vec\n",
    "        sign = sign\n",
    "    elif m < vec <= r:\n",
    "        vec = -(int(vec-r))\n",
    "    elif r < vec <= r+m:\n",
    "        vec = vec - r\n",
    "        sign = -sign\n",
    "    elif r+m < vec <= 4*(m-1)+1:\n",
    "        #need to check for q>4\n",
    "        vec = -(int(vec - 2*r))\n",
    "        sign = -sign\n",
    "    else:\n",
    "        print(\"Something went wrong with e_%s at k = %s\" % (i,k))\n",
    "        \n",
    "    return power, vec, sign"
   ]
  },
  {
   "cell_type": "code",
   "execution_count": 22,
   "metadata": {},
   "outputs": [
    {
     "name": "stdout",
     "output_type": "stream",
     "text": [
      "12\n",
      "1\n"
     ]
    },
    {
     "data": {
      "text/plain": [
       "(12, 1, 1)"
      ]
     },
     "execution_count": 22,
     "metadata": {},
     "output_type": "execute_result"
    }
   ],
   "source": [
    "RTpower_quotient(15,2,4,7,0)"
   ]
  },
  {
   "cell_type": "code",
   "execution_count": 28,
   "metadata": {},
   "outputs": [],
   "source": [
    "def RTpowersep(r,p,q,i,k):\n",
    "    if abs(int(2*q*k+1))%r ==0:\n",
    "        return \"e_0\"\n",
    "    elif int(2*q*k+1)<0:\n",
    "        return int((p*q*(i**2-1)/2-2*p*k*(q*k+1))%(2*r)), abs(int(2*q*k+1)), -1\n",
    "    else:\n",
    "        return int(p*q*(i**2-1)/2), int(-2*p*k*(q*k+1)), abs(int(2*q*k+1))\n",
    "\n",
    "def RTvals(r,p,q,i):\n",
    "    for k in S(i):\n",
    "        print(RTpower(r,p,q,i,k))\n",
    "        \n",
    "def RTvals_quotient(r,p,q,i):\n",
    "    for k in S(i):\n",
    "        print(RTpower_quotient(r,p,q,i,k))\n",
    "    \n",
    "def RTvalssep(r,p,q,i):\n",
    "    for k in S(i):\n",
    "        print(RTpowersep(r,p,q,i,k))    \n",
    "\n",
    "def RT(r,p,q):\n",
    "    t0 = time.time()\n",
    "    m = (r-1)//2\n",
    "    #print(m)\n",
    "    mat = np.zeros(shape=(m,m))\n",
    "    for i in range(1,m+1):\n",
    "        #print(\"i = %s\" % i)\n",
    "        e_i = [[RTpower_quotient(r,p,q,i,k)[0], RTpower_quotient(r,p,q,i,k)[1],RTpower_quotient(r,p,q,i,k)[2]] for k in S(i)]\n",
    "        while [0,0,0] in e_i:\n",
    "            e_i.remove([0,0,0])  \n",
    "        for triple1 in e_i:\n",
    "            for triple2 in e_i:\n",
    "                if triple1[1] == triple2[1]:\n",
    "                    if triple1[0]==triple2[0]:\n",
    "                        if triple1[2]==(-1)*triple2[2]:\n",
    "                            e_i.remove(triple1)\n",
    "                            e_i.remove(triple2)\n",
    "                            if triple1[2]!=(-1)*triple2[2]: \n",
    "                                print(\"Not a ROU\")\n",
    "        #e_i_pwr = [1 for e in e_i]\n",
    "        e_i_pwr = [e[0]*e[2] for e in e_i]\n",
    "        e_i_vec = [e[1] for e in e_i]\n",
    "        for l in range(len(e_i_vec)):\n",
    "            for j in range(1,m+1):\n",
    "                if j == e_i_vec[l]:\n",
    "                    mat[i-1,j-1] = e_i_pwr[l]\n",
    "        for triple in e_i:\n",
    "            if triple[0] == 0:\n",
    "                #print(triple[1])\n",
    "                #print(\"i = %s .....\" % i)\n",
    "                mat[i-1,triple[1]-1] = 1\n",
    "                if i !=1 and triple[1] !=1:\n",
    "                    print(\"Index (%s, %s) is actually 1\" % (i-1,triple[1]-1))\n",
    "    t1 = time.time()-t0\n",
    "    #print(\"r = %s: %s seconds\" % (r,t1))\n",
    "    return np.array(np.transpose(mat), dtype = int)\n",
    "\n",
    "def RT_ROU(r,p,q):\n",
    "    t0 = time.time()\n",
    "    m = (r-1)//2\n",
    "    mat = np.zeros(shape=(m,m), dtype=complex)\n",
    "    for i in range(1,m+1):\n",
    "        e_i = [[RTpower_quotient(r,p,q,i,k)[0], RTpower_quotient(r,p,q,i,k)[1],RTpower_quotient(r,p,q,i,k)[2]] for k in S(i)]\n",
    "        while [0,0,0] in e_i:\n",
    "            e_i.remove([0,0,0])  \n",
    "        for triple1 in e_i:\n",
    "            for triple2 in e_i:\n",
    "                if triple1[1] == triple2[1]:\n",
    "                    if triple1[0]==triple2[0]:\n",
    "                        if triple1[2]==(-1)*triple2[2]:\n",
    "                            e_i.remove(triple1)\n",
    "                            e_i.remove(triple2)\n",
    "                            if triple1[2]!=(-1)*triple2[2]: \n",
    "                                print(\"Not a ROU\")\n",
    "        e_i_pwr = [e[0]*e[2] for e in e_i]\n",
    "        e_i_vec = [e[1] for e in e_i]\n",
    "        for l in range(len(e_i_vec)):\n",
    "            for j in range(1,m+1):\n",
    "                if j == e_i_vec[l]:\n",
    "                    mat[i-1,j-1] = A(r)**e_i_pwr[l]\n",
    "        for triple in e_i:\n",
    "            if triple[0] == 0:\n",
    "                mat[i-1,triple[1]-1] = 1\n",
    "    t1 = time.time()-t0\n",
    "    #print(\"r = %s: %s seconds\" % (r,t1))\n",
    "    return np.transpose(mat)\n",
    "\n",
    "def blocks4(r,p,q):\n",
    "    m = np.int((r-1)/2)\n",
    "    Cbar = RT(r,p,q)\n",
    "    dim = np.int((m+3)/4)\n",
    "    for i in range(dim):\n",
    "        Cbar[[i,4*(i+1)-4]] = Cbar[[4*(i+1)-4,i]]\n",
    "    U = np.zeros((dim,dim))\n",
    "    for i in range(dim):\n",
    "        for j in range(dim):\n",
    "            U[i,j] = Cbar[i,j]\n",
    "    K= np.zeros((m-dim, m-dim))\n",
    "    for i in range(m-dim):\n",
    "        for j in range(m-dim):\n",
    "            K[i,j] = Cbar[dim+i,dim+j]\n",
    "    L = Cbar[:,:dim]\n",
    "    L = L[dim:]\n",
    "    M = Cbar[:,dim:]\n",
    "    M = M[:dim]\n",
    "    \n",
    "    return Cbar, U, M, L, K\n",
    "\n",
    "def blocks(r,p,q):\n",
    "    m = np.int((r-1)/2)\n",
    "    Cbar = RT(r,p,q)\n",
    "    dim = np.int((m-1)/q+1)\n",
    "    for i in range(1,dim):\n",
    "        Cbar[[i,q*(i)]] = Cbar[[q*(i),i]]\n",
    "    U = np.zeros((dim,dim))\n",
    "    for i in range(dim):\n",
    "        for j in range(dim):\n",
    "            U[i,j] = Cbar[i,j]\n",
    "    K= np.zeros((m-dim, m-dim))\n",
    "    for i in range(m-dim):\n",
    "        for j in range(m-dim):\n",
    "            K[i,j] = Cbar[dim+i,dim+j]\n",
    "    L = Cbar[:,:dim]\n",
    "    L = L[dim:]\n",
    "    M = Cbar[:,dim:]\n",
    "    M = M[:dim]\n",
    "    \n",
    "    return Cbar, U, M, L, K\n",
    "\n",
    "def blocks_ROU(r,p,q):\n",
    "    m = np.int((r-1)/2)\n",
    "    Cbar = RT_ROU(r,p,q)\n",
    "    dim = np.int((m+3)/4)\n",
    "    for i in range(dim):\n",
    "        Cbar[[i,4*(i+1)-4]] = Cbar[[4*(i+1)-4,i]]\n",
    "    U = np.zeros((dim,dim), dtype=complex)\n",
    "    for i in range(dim):\n",
    "        for j in range(dim):\n",
    "            U[i,j] = Cbar[i,j]\n",
    "    K= np.zeros((m-dim, m-dim), dtype=complex)\n",
    "    for i in range(m-dim):\n",
    "        for j in range(m-dim):\n",
    "            K[i,j] = Cbar[dim+i,dim+j]\n",
    "    L = Cbar[:,:dim]\n",
    "    L = L[dim:]\n",
    "    M = Cbar[:,dim:]\n",
    "    M = M[:dim]\n",
    "    \n",
    "    return Cbar, U, M, L, K\n",
    "\n",
    "\n",
    "def C_inverse(r,p,q):\n",
    "    C, U, M, L, K = blocks_ROU(r,p,q)\n",
    "\n",
    "    #print(C.shape)\n",
    "\n",
    "    invC = np.round(np.linalg.inv(C), 2)\n",
    "\n",
    "    schur = K-L@(np.linalg.inv(U))@M\n",
    "\n",
    "    #print(schur.shape)\n",
    "    #print(np.linalg.det(schur))\n",
    "\n",
    "    UL = np.linalg.inv(U)+ np.linalg.inv(U)@M@np.linalg.inv(schur)@L@np.linalg.inv(U)\n",
    "    #print(UL.shape)\n",
    "    UR = -1*np.linalg.inv(U)@M@np.linalg.inv(schur)\n",
    "    #print(UR.shape)\n",
    "    LL = -1*np.linalg.inv(schur)@L@np.linalg.inv(U)\n",
    "    #print(LL.shape)\n",
    "    LR = np.linalg.inv(schur)\n",
    "    #print(LR.shape)\n",
    "\n",
    "    C_inv = np.block([[UL, UR],[LL, LR]])\n",
    "    C_inv = np.round(np.linalg.inv(C), 2)\n",
    "    #print(C_inv)\n",
    "\n",
    "    #print(\"Correct Inverse?: %s\" % (invC == C_inv).all())\n",
    "    \n",
    "    return schur, C_inv\n",
    "\n",
    "\n",
    "def schur_comp(Mat,dim):\n",
    "    U = Mat[0:dim,0:dim]\n",
    "    print(np.linalg.det(U)!=0)\n",
    "    M = Mat[0:dim,dim:]\n",
    "    L = Mat[dim:,0:dim]\n",
    "    K = Mat[dim:,dim:]\n",
    "    \n",
    "    schur = K-L@(np.linalg.inv(U))@M\n",
    "    \n",
    "    return schur"
   ]
  },
  {
   "cell_type": "code",
   "execution_count": 33,
   "metadata": {},
   "outputs": [
    {
     "name": "stdout",
     "output_type": "stream",
     "text": [
      "Index (2, 6) is actually 1\n",
      "Index (6, 1) is actually 1\n"
     ]
    },
    {
     "data": {
      "text/plain": [
       "array([[  1,   0,  18,   0,  24,   0,  18],\n",
       "       [  0,   0,   0,  27,  -6,  27,   1],\n",
       "       [  0, -15,   0, -27,   0, -27,   0],\n",
       "       [  0,   0,   0, -15,   0,   0,   0],\n",
       "       [  0,   9,   0,  21,   0,  21, -24],\n",
       "       [  0,   0,  18,   0,  24, -15,  18],\n",
       "       [  0,   0,   1,   0,  -6,   0,   0]])"
      ]
     },
     "execution_count": 33,
     "metadata": {},
     "output_type": "execute_result"
    }
   ],
   "source": [
    "RT(15,3,4)"
   ]
  },
  {
   "cell_type": "code",
   "execution_count": 14,
   "metadata": {},
   "outputs": [
    {
     "name": "stdout",
     "output_type": "stream",
     "text": [
      "[[1 0 0 0 0 0]\n",
      " [0 1 1 0 1 0]\n",
      " [0 1 1 0 0 1]\n",
      " [1 1 0 0 0 1]\n",
      " [0 0 1 0 1 0]\n",
      " [1 0 0 1 0 1]]\n"
     ]
    }
   ],
   "source": [
    "R = RT(13,1,4)\n",
    "R = R.T\n",
    "\n",
    "R[[1,3]] = R[[3,1]]\n",
    "R[[3,4]] = R[[4,3]]\n",
    "R[[2,5]] = R[[5,2]]\n",
    "print(R)"
   ]
  },
  {
   "cell_type": "raw",
   "metadata": {},
   "source": []
  },
  {
   "cell_type": "code",
   "execution_count": 21,
   "metadata": {},
   "outputs": [
    {
     "name": "stdout",
     "output_type": "stream",
     "text": [
      "Index (4, 8) is actually 1\n",
      "[[1 0 1 0 1 0 1 0 1]\n",
      " [0 1 0 1 0 1 0 1 1]\n",
      " [0 0 1 0 1 0 1 1 1]\n",
      " [0 0 0 0 1 0 0 0 0]\n",
      " [0 0 0 0 1 1 1 1 1]\n",
      " [0 0 0 1 0 1 1 1 1]\n",
      " [0 0 1 0 1 0 1 0 0]\n",
      " [0 0 0 1 0 1 0 0 0]\n",
      " [0 1 0 1 0 1 0 1 0]]\n"
     ]
    }
   ],
   "source": [
    "print(blocks(19,1,4)[0])"
   ]
  },
  {
   "cell_type": "code",
   "execution_count": 7,
   "metadata": {},
   "outputs": [
    {
     "name": "stdout",
     "output_type": "stream",
     "text": [
      "[[1 0 1 0 1 0]\n",
      " [0 0 0 1 1 1]\n",
      " [0 1 0 1 0 1]\n",
      " [0 0 1 0 0 0]\n",
      " [0 1 0 1 0 0]\n",
      " [0 0 1 0 1 1]]\n"
     ]
    }
   ],
   "source": [
    "print(RT(13,1,4))"
   ]
  },
  {
   "cell_type": "code",
   "execution_count": 8,
   "metadata": {},
   "outputs": [
    {
     "name": "stdout",
     "output_type": "stream",
     "text": [
      "Index (6, 1) is actually 1\n",
      "[[1 0 1 0 1 0 1]\n",
      " [0 0 0 1 1 1 1]\n",
      " [0 1 0 1 0 1 0]\n",
      " [0 0 0 1 0 0 0]\n",
      " [0 1 0 1 0 1 1]\n",
      " [0 0 1 0 1 1 1]\n",
      " [0 0 1 0 1 0 0]]\n"
     ]
    }
   ],
   "source": [
    "print(RT(15,1,4))"
   ]
  },
  {
   "cell_type": "code",
   "execution_count": 9,
   "metadata": {
    "scrolled": true
   },
   "outputs": [
    {
     "name": "stdout",
     "output_type": "stream",
     "text": [
      "Index (6, 1) is actually 1\n",
      "[[1 0 1 0 1 0 1 0]\n",
      " [0 0 0 0 1 1 1 1]\n",
      " [0 1 0 1 0 1 0 1]\n",
      " [0 0 0 1 0 0 0 0]\n",
      " [0 1 0 1 0 1 0 0]\n",
      " [0 0 0 1 0 1 1 1]\n",
      " [0 0 1 0 1 0 1 1]\n",
      " [0 0 1 0 1 0 0 0]]\n"
     ]
    }
   ],
   "source": [
    "print(RT(17,1,4))"
   ]
  },
  {
   "cell_type": "code",
   "execution_count": 20,
   "metadata": {},
   "outputs": [
    {
     "name": "stdout",
     "output_type": "stream",
     "text": [
      "Index (4, 8) is actually 1\n",
      "[[1 0 1 0 1 0 1 0 1]\n",
      " [0 0 0 0 1 1 1 1 1]\n",
      " [0 1 0 1 0 1 0 1 0]\n",
      " [0 0 0 0 1 0 0 0 0]\n",
      " [0 1 0 1 0 1 0 1 1]\n",
      " [0 0 0 1 0 1 1 1 1]\n",
      " [0 0 1 0 1 0 1 0 0]\n",
      " [0 0 0 1 0 1 0 0 0]\n",
      " [0 0 1 0 1 0 1 1 1]]\n"
     ]
    }
   ],
   "source": [
    "print(RT(19,1,4))"
   ]
  },
  {
   "cell_type": "code",
   "execution_count": 17,
   "metadata": {},
   "outputs": [
    {
     "name": "stdout",
     "output_type": "stream",
     "text": [
      "Index (6, 8) is actually 1\n",
      "Index (12, 17) is actually 1\n",
      "[[1 0 1 0 1 0 1 0 1 0 1 0 1 0 1 0 1 0 1 0 1]\n",
      " [0 0 0 0 0 0 0 0 0 0 1 1 1 1 1 1 1 1 1 1 1]\n",
      " [0 1 0 1 0 1 0 1 0 1 0 1 0 1 0 1 0 1 0 1 0]\n",
      " [0 0 0 0 0 0 0 0 0 0 1 0 0 0 0 0 0 0 0 0 0]\n",
      " [0 1 0 1 0 1 0 1 0 1 0 1 0 1 0 1 0 1 0 1 1]\n",
      " [0 0 0 0 0 0 0 0 0 1 0 1 1 1 1 1 1 1 1 1 1]\n",
      " [0 0 1 0 1 0 1 0 1 0 1 0 1 0 1 0 1 0 1 0 0]\n",
      " [0 0 0 0 0 0 0 0 0 1 0 1 0 0 0 0 0 0 0 0 0]\n",
      " [0 0 1 0 1 0 1 0 1 0 1 0 1 0 1 0 1 0 1 1 1]\n",
      " [0 0 0 0 0 0 0 0 1 0 1 0 1 1 1 1 1 1 1 1 1]\n",
      " [0 0 0 1 0 1 0 1 0 1 0 1 0 1 0 1 0 1 0 0 0]\n",
      " [0 0 0 0 0 0 0 0 1 0 1 0 1 0 0 0 1 0 0 0 1]\n",
      " [0 0 0 1 0 1 0 1 0 1 0 1 0 1 0 1 0 1 1 1 1]\n",
      " [0 0 0 0 0 0 0 1 0 1 0 1 0 1 1 1 1 1 1 1 1]\n",
      " [0 0 0 0 1 0 1 0 1 0 1 0 1 0 1 0 1 0 0 0 0]\n",
      " [0 0 0 0 0 0 0 1 0 1 0 1 0 1 0 0 0 1 0 0 0]\n",
      " [0 0 0 0 1 0 1 0 1 0 1 0 1 0 1 0 1 1 1 1 1]\n",
      " [0 0 0 0 0 0 1 0 1 0 1 0 1 0 1 1 1 1 1 1 1]\n",
      " [0 0 0 0 0 1 0 1 0 1 0 1 0 1 0 1 0 0 0 1 0]\n",
      " [0 0 0 0 0 0 1 0 1 0 1 0 1 0 1 0 0 0 1 0 0]\n",
      " [0 0 0 0 0 1 0 1 0 1 0 1 0 1 0 1 1 1 1 1 1]]\n"
     ]
    }
   ],
   "source": [
    "print(RT(43,1,4))"
   ]
  },
  {
   "cell_type": "code",
   "execution_count": 8,
   "metadata": {
    "scrolled": false
   },
   "outputs": [
    {
     "ename": "NameError",
     "evalue": "name 'blocks_ROU' is not defined",
     "output_type": "error",
     "traceback": [
      "\u001b[1;31m---------------------------------------------------------------------------\u001b[0m",
      "\u001b[1;31mNameError\u001b[0m                                 Traceback (most recent call last)",
      "\u001b[1;32m<ipython-input-8-430a1ae0a8f9>\u001b[0m in \u001b[0;36m<module>\u001b[1;34m\u001b[0m\n\u001b[0;32m      1\u001b[0m \u001b[1;32mfor\u001b[0m \u001b[0mr\u001b[0m \u001b[1;32min\u001b[0m \u001b[0mrange\u001b[0m\u001b[1;33m(\u001b[0m\u001b[1;36m3\u001b[0m\u001b[1;33m,\u001b[0m\u001b[1;36m57\u001b[0m\u001b[1;33m,\u001b[0m\u001b[1;36m8\u001b[0m\u001b[1;33m)\u001b[0m\u001b[1;33m:\u001b[0m\u001b[1;33m\u001b[0m\u001b[1;33m\u001b[0m\u001b[0m\n\u001b[1;32m----> 2\u001b[1;33m     \u001b[0mCbar\u001b[0m\u001b[1;33m,\u001b[0m \u001b[0mU\u001b[0m\u001b[1;33m,\u001b[0m \u001b[0mM\u001b[0m\u001b[1;33m,\u001b[0m \u001b[0mL\u001b[0m\u001b[1;33m,\u001b[0m \u001b[0mK\u001b[0m \u001b[1;33m=\u001b[0m \u001b[0mblocks_ROU\u001b[0m\u001b[1;33m(\u001b[0m\u001b[0mr\u001b[0m\u001b[1;33m,\u001b[0m\u001b[1;36m1\u001b[0m\u001b[1;33m,\u001b[0m\u001b[1;36m4\u001b[0m\u001b[1;33m)\u001b[0m\u001b[1;33m\u001b[0m\u001b[1;33m\u001b[0m\u001b[0m\n\u001b[0m\u001b[0;32m      3\u001b[0m     \u001b[1;31m#print(U)\u001b[0m\u001b[1;33m\u001b[0m\u001b[1;33m\u001b[0m\u001b[1;33m\u001b[0m\u001b[0m\n\u001b[0;32m      4\u001b[0m     \u001b[1;31m#print(\"r=%s\" % r)\u001b[0m\u001b[1;33m\u001b[0m\u001b[1;33m\u001b[0m\u001b[1;33m\u001b[0m\u001b[0m\n\u001b[0;32m      5\u001b[0m     \u001b[0mzer\u001b[0m \u001b[1;33m=\u001b[0m \u001b[0mnp\u001b[0m\u001b[1;33m.\u001b[0m\u001b[0margwhere\u001b[0m\u001b[1;33m(\u001b[0m\u001b[0mK\u001b[0m \u001b[1;33m==\u001b[0m \u001b[1;36m0\u001b[0m\u001b[1;33m)\u001b[0m\u001b[1;33m\u001b[0m\u001b[1;33m\u001b[0m\u001b[0m\n",
      "\u001b[1;31mNameError\u001b[0m: name 'blocks_ROU' is not defined"
     ]
    }
   ],
   "source": [
    "for r in range(3,57,8):\n",
    "    Cbar, U, M, L, K = blocks_ROU(r,1,4)\n",
    "    #print(U)\n",
    "    #print(\"r=%s\" % r)\n",
    "    zer = np.argwhere(K == 0)\n",
    "    #print(zer)\n",
    "    #print(\"--------------\")"
   ]
  },
  {
   "cell_type": "code",
   "execution_count": 9,
   "metadata": {
    "scrolled": false
   },
   "outputs": [
    {
     "ename": "NameError",
     "evalue": "name 'blocks_ROU' is not defined",
     "output_type": "error",
     "traceback": [
      "\u001b[1;31m---------------------------------------------------------------------------\u001b[0m",
      "\u001b[1;31mNameError\u001b[0m                                 Traceback (most recent call last)",
      "\u001b[1;32m<ipython-input-9-92408a954af4>\u001b[0m in \u001b[0;36m<module>\u001b[1;34m\u001b[0m\n\u001b[0;32m      1\u001b[0m \u001b[1;32mfor\u001b[0m \u001b[0mr\u001b[0m \u001b[1;32min\u001b[0m \u001b[0mrange\u001b[0m\u001b[1;33m(\u001b[0m\u001b[1;36m3\u001b[0m\u001b[1;33m,\u001b[0m\u001b[1;36m57\u001b[0m\u001b[1;33m,\u001b[0m\u001b[1;36m8\u001b[0m\u001b[1;33m)\u001b[0m\u001b[1;33m:\u001b[0m\u001b[1;33m\u001b[0m\u001b[1;33m\u001b[0m\u001b[0m\n\u001b[1;32m----> 2\u001b[1;33m     \u001b[0mCbar\u001b[0m\u001b[1;33m,\u001b[0m \u001b[0mU\u001b[0m\u001b[1;33m,\u001b[0m \u001b[0mM\u001b[0m\u001b[1;33m,\u001b[0m \u001b[0mL\u001b[0m\u001b[1;33m,\u001b[0m \u001b[0mK\u001b[0m \u001b[1;33m=\u001b[0m \u001b[0mblocks_ROU\u001b[0m\u001b[1;33m(\u001b[0m\u001b[0mr\u001b[0m\u001b[1;33m,\u001b[0m\u001b[1;36m1\u001b[0m\u001b[1;33m,\u001b[0m\u001b[1;36m4\u001b[0m\u001b[1;33m)\u001b[0m\u001b[1;33m\u001b[0m\u001b[1;33m\u001b[0m\u001b[0m\n\u001b[0m\u001b[0;32m      3\u001b[0m     \u001b[1;31m#print(U)\u001b[0m\u001b[1;33m\u001b[0m\u001b[1;33m\u001b[0m\u001b[1;33m\u001b[0m\u001b[0m\n\u001b[0;32m      4\u001b[0m     \u001b[0mprint\u001b[0m\u001b[1;33m(\u001b[0m\u001b[1;34m\"r=%s\"\u001b[0m \u001b[1;33m%\u001b[0m \u001b[0mr\u001b[0m\u001b[1;33m)\u001b[0m\u001b[1;33m\u001b[0m\u001b[1;33m\u001b[0m\u001b[0m\n\u001b[0;32m      5\u001b[0m     \u001b[0mzer\u001b[0m \u001b[1;33m=\u001b[0m \u001b[0mnp\u001b[0m\u001b[1;33m.\u001b[0m\u001b[0margwhere\u001b[0m\u001b[1;33m(\u001b[0m\u001b[0mU\u001b[0m \u001b[1;33m==\u001b[0m \u001b[1;36m0\u001b[0m\u001b[1;33m)\u001b[0m\u001b[1;33m\u001b[0m\u001b[1;33m\u001b[0m\u001b[0m\n",
      "\u001b[1;31mNameError\u001b[0m: name 'blocks_ROU' is not defined"
     ]
    }
   ],
   "source": [
    "for r in range(3,57,8):\n",
    "    Cbar, U, M, L, K = blocks_ROU(r,1,4)\n",
    "    #print(U)\n",
    "    print(\"r=%s\" % r)\n",
    "    zer = np.argwhere(U == 0)\n",
    "    zeros = []\n",
    "    for pair in zer:\n",
    "        if pair[0]<pair[1]:\n",
    "            zeros.append(pair)\n",
    "    zeros = np.array(zeros)\n",
    "    print(zeros)\n",
    "    print(\"--------------\")"
   ]
  },
  {
   "cell_type": "code",
   "execution_count": 127,
   "metadata": {},
   "outputs": [
    {
     "name": "stdout",
     "output_type": "stream",
     "text": [
      "Index (4, 8) is actually 1\n",
      "Index (4, 8) is actually 1\n"
     ]
    }
   ],
   "source": [
    "for r in range(3,5,8):\n",
    "    Cbar, U, M, L, K = blocks(19,1,4)\n",
    "    Cbar4, U4, M, L4, K = blocks4(19,1,4)\n",
    "    if not (Cbar == Cbar4).all():\n",
    "        print((Cbar == Cbar4).all())\n",
    "    if not (L == L4).all():\n",
    "        print((L == L4).all())"
   ]
  },
  {
   "cell_type": "code",
   "execution_count": 19,
   "metadata": {
    "scrolled": false
   },
   "outputs": [
    {
     "data": {
      "image/png": "[encoded data removed]",
      "text/plain": [
       "<Figure size 432x288 with 1 Axes>"
      ]
     },
     "metadata": {
      "needs_background": "light"
     },
     "output_type": "display_data"
    }
   ],
   "source": [
    "rvals = []\n",
    "vals = []\n",
    "for r in range(3,105,2):\n",
    "    Cbar = RT_ROU(r,1,4)\n",
    "    rvals.append(r)\n",
    "    vals.append(abs(np.linalg.det(Cbar)))\n",
    "    \n",
    "plt.plot(rvals,vals)\n",
    "plt.plot(rvals,rvals)\n",
    "plt.show()"
   ]
  },
  {
   "cell_type": "code",
   "execution_count": 143,
   "metadata": {},
   "outputs": [
    {
     "data": {
      "image/png": "[encoded data removed]",
      "text/plain": [
       "<Figure size 432x288 with 1 Axes>"
      ]
     },
     "metadata": {
      "needs_background": "light"
     },
     "output_type": "display_data"
    },
    {
     "name": "stdout",
     "output_type": "stream",
     "text": [
      "0.1395717247353937\n",
      "-3.9452480169098862\n",
      "0.9992556750511323\n"
     ]
    }
   ],
   "source": [
    "plt.close()\n",
    "valspi = np.array(vals)/(np.pi)\n",
    "plt.plot(rvals,valspi)\n",
    "plt.show()\n",
    "\n",
    "slope, intercept, r_value, p_value, std_err = sp.stats.linregress(rvals,vals)\n",
    "print(slope)\n",
    "print(intercept)\n",
    "print(r_value)"
   ]
  },
  {
   "cell_type": "code",
   "execution_count": 10,
   "metadata": {
    "scrolled": false
   },
   "outputs": [
    {
     "ename": "NameError",
     "evalue": "name 'blocks' is not defined",
     "output_type": "error",
     "traceback": [
      "\u001b[1;31m---------------------------------------------------------------------------\u001b[0m",
      "\u001b[1;31mNameError\u001b[0m                                 Traceback (most recent call last)",
      "\u001b[1;32m<ipython-input-10-cf7105006686>\u001b[0m in \u001b[0;36m<module>\u001b[1;34m\u001b[0m\n\u001b[0;32m      1\u001b[0m \u001b[1;32mfor\u001b[0m \u001b[0mr\u001b[0m \u001b[1;32min\u001b[0m \u001b[0mrange\u001b[0m\u001b[1;33m(\u001b[0m\u001b[1;36m3\u001b[0m\u001b[1;33m,\u001b[0m\u001b[1;36m155\u001b[0m\u001b[1;33m,\u001b[0m\u001b[1;36m8\u001b[0m\u001b[1;33m)\u001b[0m\u001b[1;33m:\u001b[0m\u001b[1;33m\u001b[0m\u001b[1;33m\u001b[0m\u001b[0m\n\u001b[1;32m----> 2\u001b[1;33m     \u001b[0mK\u001b[0m \u001b[1;33m=\u001b[0m \u001b[0mblocks\u001b[0m\u001b[1;33m(\u001b[0m\u001b[0mr\u001b[0m\u001b[1;33m,\u001b[0m\u001b[1;36m1\u001b[0m\u001b[1;33m,\u001b[0m\u001b[1;36m4\u001b[0m\u001b[1;33m)\u001b[0m\u001b[1;33m[\u001b[0m\u001b[1;36m4\u001b[0m\u001b[1;33m]\u001b[0m\u001b[1;33m\u001b[0m\u001b[1;33m\u001b[0m\u001b[0m\n\u001b[0m\u001b[0;32m      3\u001b[0m     \u001b[0mprint\u001b[0m\u001b[1;33m(\u001b[0m\u001b[1;34m\"r = %s\"\u001b[0m \u001b[1;33m%\u001b[0m \u001b[0mr\u001b[0m\u001b[1;33m)\u001b[0m\u001b[1;33m\u001b[0m\u001b[1;33m\u001b[0m\u001b[0m\n\u001b[0;32m      4\u001b[0m     \u001b[0mm\u001b[0m \u001b[1;33m=\u001b[0m \u001b[1;33m(\u001b[0m\u001b[0mr\u001b[0m\u001b[1;33m-\u001b[0m\u001b[1;36m1\u001b[0m\u001b[1;33m)\u001b[0m\u001b[1;33m//\u001b[0m\u001b[1;36m2\u001b[0m\u001b[1;33m\u001b[0m\u001b[1;33m\u001b[0m\u001b[0m\n\u001b[0;32m      5\u001b[0m     \u001b[0mprint\u001b[0m\u001b[1;33m(\u001b[0m\u001b[1;34m\"m = %s\"\u001b[0m \u001b[1;33m%\u001b[0m \u001b[0mm\u001b[0m\u001b[1;33m)\u001b[0m\u001b[1;33m\u001b[0m\u001b[1;33m\u001b[0m\u001b[0m\n",
      "\u001b[1;31mNameError\u001b[0m: name 'blocks' is not defined"
     ]
    }
   ],
   "source": [
    "for r in range(3,155,8):\n",
    "    K = blocks(r,1,4)[4]\n",
    "    print(\"r = %s\" % r)\n",
    "    m = (r-1)//2\n",
    "    print(\"m = %s\" % m)\n",
    "    print(K)\n",
    "    print(\"----------------------\")"
   ]
  },
  {
   "cell_type": "code",
   "execution_count": 11,
   "metadata": {},
   "outputs": [
    {
     "ename": "NameError",
     "evalue": "name 'RT' is not defined",
     "output_type": "error",
     "traceback": [
      "\u001b[1;31m---------------------------------------------------------------------------\u001b[0m",
      "\u001b[1;31mNameError\u001b[0m                                 Traceback (most recent call last)",
      "\u001b[1;32m<ipython-input-11-48fce4ae5f99>\u001b[0m in \u001b[0;36m<module>\u001b[1;34m\u001b[0m\n\u001b[1;32m----> 1\u001b[1;33m \u001b[0mRT\u001b[0m\u001b[1;33m(\u001b[0m\u001b[1;36m57\u001b[0m\u001b[1;33m,\u001b[0m\u001b[1;36m1\u001b[0m\u001b[1;33m,\u001b[0m\u001b[1;36m8\u001b[0m\u001b[1;33m)\u001b[0m\u001b[1;33m\u001b[0m\u001b[1;33m\u001b[0m\u001b[0m\n\u001b[0m",
      "\u001b[1;31mNameError\u001b[0m: name 'RT' is not defined"
     ]
    }
   ],
   "source": [
    "RT(57,1,8)"
   ]
  },
  {
   "cell_type": "code",
   "execution_count": 76,
   "metadata": {
    "scrolled": true
   },
   "outputs": [
    {
     "name": "stdout",
     "output_type": "stream",
     "text": [
      "[[ 0. +0.j  -0.4-0.9j  0. +0.j ]\n",
      " [-1. -0.3j  0. +0.j   0. +0.j ]\n",
      " [-0.1+1.j  -0.8-0.5j -0.1-1.j ]]\n"
     ]
    }
   ],
   "source": [
    "Cbar, U, M, L, K = blocks_ROU(11,1,4)\n",
    "#print(Cbar)\n",
    "print(K)"
   ]
  },
  {
   "cell_type": "code",
   "execution_count": 77,
   "metadata": {},
   "outputs": [
    {
     "name": "stdout",
     "output_type": "stream",
     "text": [
      "[[ 0. +0.j   0.7-0.7j  0. +0.j  -0.6+0.8j]\n",
      " [ 0.1+1.j   0. +0.j   0. +0.j   0. +0.j ]\n",
      " [ 0. +0.j  -0.9+0.5j  0.1-1.j   0.7-0.7j]\n",
      " [-0.7-0.7j  0. +0.j  -0.7+0.7j  1. -0.2j]]\n"
     ]
    }
   ],
   "source": [
    "Cbar, U, M, L, K = blocks_ROU(13,1,4)\n",
    "#print(Cbar)\n",
    "print(K)"
   ]
  },
  {
   "cell_type": "code",
   "execution_count": 78,
   "metadata": {},
   "outputs": [
    {
     "name": "stdout",
     "output_type": "stream",
     "text": [
      "[[ 0. +0.0e+00j  1. +2.1e-01j  0. +0.0e+00j -0.3-9.5e-01j  0. +0.0e+00j]\n",
      " [ 0. +0.0e+00j -1. -8.0e-16j  0. +0.0e+00j  0. +0.0e+00j  0. +0.0e+00j]\n",
      " [ 0. +0.0e+00j -0.3+9.5e-01j -0.8-5.9e-01j -0.7-7.4e-01j  1. +0.0e+00j]\n",
      " [ 0.3+9.5e-01j  0. +0.0e+00j -0.1+9.9e-01j -1. -8.0e-16j  0.7-7.4e-01j]\n",
      " [-0.5-8.7e-01j  0. +0.0e+00j -0.8-5.9e-01j  0. +0.0e+00j  0. +0.0e+00j]]\n"
     ]
    }
   ],
   "source": [
    "Cbar, U, M, L, K = blocks_ROU(15,1,4)\n",
    "#print(Cbar)\n",
    "print(K)"
   ]
  },
  {
   "cell_type": "code",
   "execution_count": 84,
   "metadata": {},
   "outputs": [
    {
     "name": "stdout",
     "output_type": "stream",
     "text": [
      "[[ 0. +0.j  -1.1-0.2j -0.8-0.5j]\n",
      " [-1. -0.3j  0. +0.j   0. +0.j ]\n",
      " [-0.1+1.j  -0.8-0.5j -0.1-1.j ]]\n",
      "(3, 3)\n",
      "True\n",
      "[[0.4-0.2j]]\n"
     ]
    }
   ],
   "source": [
    "schur, C_inv = C_inverse(11,1,4)\n",
    "print(schur)\n",
    "print(schur.shape)\n",
    "\n",
    "schur2 = schur_comp(schur,2)\n",
    "print(schur2)"
   ]
  },
  {
   "cell_type": "code",
   "execution_count": 87,
   "metadata": {},
   "outputs": [
    {
     "name": "stdout",
     "output_type": "stream",
     "text": [
      "[[ 0. +0.0e+00j  0. +0.0e+00j -0.5+8.7e-01j -0.8-6.4e-01j -1. -1.2e-01j\n",
      "  -0.2+9.8e-01j  1. +0.0e+00j -0.6-8.0e-01j  0.2-9.8e-01j]\n",
      " [ 0. +0.0e+00j -0.2+9.8e-01j  0. +0.0e+00j -0.4+9.2e-01j -0.9-3.4e-01j\n",
      "  -0.6-8.0e-01j  0.9+4.5e-01j -0.2+9.8e-01j -0.3+9.6e-01j]\n",
      " [ 1. +4.4e-01j  0. +0.0e+00j -0.2-9.2e-02j  0. +0.0e+00j  1.6+6.9e-01j\n",
      "   0. +0.0e+00j -1.5-6.4e-01j -0.8-5.5e-01j  0.1+1.0e+00j]\n",
      " [ 0. +0.0e+00j -1. -2.3e-01j  0. +0.0e+00j -1. -2.2e-16j  0. +0.0e+00j\n",
      "   0. +0.0e+00j  0. +0.0e+00j  0. +0.0e+00j  0. +0.0e+00j]\n",
      " [ 0. +0.0e+00j -0.5-1.9e+00j  0. +0.0e+00j -0.5-1.9e+00j  0. +0.0e+00j\n",
      "   0.3+1.3e+00j -0.6+2.7e-01j -0.5-1.9e+00j -0.8-1.5e+00j]\n",
      " [ 0.2+9.8e-01j  0. +0.0e+00j  0.8+6.4e-01j  0. +0.0e+00j -0.3+9.6e-01j\n",
      "  -1. -2.2e-16j  0.2-9.8e-01j  0.7-7.3e-01j -0.9-3.4e-01j]\n",
      " [ 0. +0.0e+00j  2. -3.5e-01j  0. +0.0e+00j  1.9-3.4e-01j  0. +0.0e+00j\n",
      "  -1.3+2.2e-01j -1. -5.6e-16j  1. -2.3e-01j -0.2-9.8e-01j]\n",
      " [-0.7-7.3e-01j  0. +0.0e+00j -0.1-1.0e+00j  0. +0.0e+00j -0.9-3.4e-01j\n",
      "   0. +0.0e+00j  0. +0.0e+00j  0. +0.0e+00j -0.3+9.6e-01j]\n",
      " [ 0. +0.0e+00j  0. +0.0e+00j -0.9+3.4e-01j  0. +0.0e+00j  0. +0.0e+00j\n",
      "   0. +0.0e+00j  0. +0.0e+00j  0. +0.0e+00j  0. +0.0e+00j]]\n",
      "(9, 9)\n",
      "True\n",
      "[[-9.9e-01+1.2e-01j -6.0e-01+8.0e-01j  3.7e-01+2.7e-01j -1.7e-01-9.8e-01j\n",
      "  -6.0e-01-5.0e-01j]\n",
      " [-2.4e+00-6.6e-01j -4.5e+00-9.7e-01j  2.5e+00+8.5e-01j  3.2e+00+1.9e+00j\n",
      "   2.0e+00+1.9e+00j]\n",
      " [-5.8e-02-1.0e+00j -7.7e-01-6.4e-01j -1.1e+00+1.0e+00j  5.6e-16-2.5e-16j\n",
      "  -1.2e+00-8.7e-01j]\n",
      " [ 1.7e+00+1.9e+00j  2.4e+00+2.8e+00j -2.5e+00-2.5e+00j -1.6e+00-3.6e+00j\n",
      "  -8.9e-01-1.7e+00j]\n",
      " [ 6.9e-01-1.4e+00j  2.0e+00-2.5e+00j -1.0e+00+1.5e+00j -2.2e+00+1.4e+00j\n",
      "  -2.9e+00+7.7e-01j]]\n",
      "True\n",
      "[[-0. -0.3j -0.1+2.3j]\n",
      " [ 0.2+0.4j -1. +0.2j]]\n",
      "True\n",
      "[[0.1+3.1j]]\n"
     ]
    }
   ],
   "source": [
    "schur, C_inv = C_inverse(27,1,4)\n",
    "print(schur)\n",
    "print(schur.shape)\n",
    "\n",
    "schur2 = schur_comp(schur,4)\n",
    "print(schur2)\n",
    "\n",
    "schur3 = schur_comp(schur2,3)\n",
    "print(schur3)\n",
    "\n",
    "schur4 = schur_comp(schur3,1)\n",
    "print(schur4)"
   ]
  },
  {
   "cell_type": "code",
   "execution_count": 12,
   "metadata": {
    "scrolled": false
   },
   "outputs": [
    {
     "ename": "NameError",
     "evalue": "name 'C_inverse' is not defined",
     "output_type": "error",
     "traceback": [
      "\u001b[1;31m---------------------------------------------------------------------------\u001b[0m",
      "\u001b[1;31mNameError\u001b[0m                                 Traceback (most recent call last)",
      "\u001b[1;32m<ipython-input-12-860f39446f31>\u001b[0m in \u001b[0;36m<module>\u001b[1;34m\u001b[0m\n\u001b[0;32m      1\u001b[0m \u001b[1;32mfor\u001b[0m \u001b[0mr\u001b[0m \u001b[1;32min\u001b[0m \u001b[0mrange\u001b[0m\u001b[1;33m(\u001b[0m\u001b[1;36m11\u001b[0m\u001b[1;33m,\u001b[0m\u001b[1;36m57\u001b[0m\u001b[1;33m,\u001b[0m\u001b[1;36m8\u001b[0m\u001b[1;33m)\u001b[0m\u001b[1;33m:\u001b[0m\u001b[1;33m\u001b[0m\u001b[1;33m\u001b[0m\u001b[0m\n\u001b[1;32m----> 2\u001b[1;33m     \u001b[0mschur\u001b[0m\u001b[1;33m,\u001b[0m \u001b[0mC_inv\u001b[0m \u001b[1;33m=\u001b[0m \u001b[0mC_inverse\u001b[0m\u001b[1;33m(\u001b[0m\u001b[0mr\u001b[0m\u001b[1;33m,\u001b[0m\u001b[1;36m1\u001b[0m\u001b[1;33m,\u001b[0m\u001b[1;36m4\u001b[0m\u001b[1;33m)\u001b[0m\u001b[1;33m\u001b[0m\u001b[1;33m\u001b[0m\u001b[0m\n\u001b[0m\u001b[0;32m      3\u001b[0m     \u001b[1;31m#print(schur)\u001b[0m\u001b[1;33m\u001b[0m\u001b[1;33m\u001b[0m\u001b[1;33m\u001b[0m\u001b[0m\n\u001b[0;32m      4\u001b[0m     \u001b[0mprint\u001b[0m\u001b[1;33m(\u001b[0m\u001b[0mschur\u001b[0m\u001b[1;33m.\u001b[0m\u001b[0mshape\u001b[0m\u001b[1;33m)\u001b[0m\u001b[1;33m\u001b[0m\u001b[1;33m\u001b[0m\u001b[0m\n\u001b[0;32m      5\u001b[0m     \u001b[1;31m#print(np.linalg.det(schur))\u001b[0m\u001b[1;33m\u001b[0m\u001b[1;33m\u001b[0m\u001b[1;33m\u001b[0m\u001b[0m\n",
      "\u001b[1;31mNameError\u001b[0m: name 'C_inverse' is not defined"
     ]
    }
   ],
   "source": [
    "for r in range(11,57,8):\n",
    "    schur, C_inv = C_inverse(r,1,4)\n",
    "    #print(schur)\n",
    "    print(schur.shape)\n",
    "    #print(np.linalg.det(schur))\n",
    "    SS = np.conj(schur.T)@schur\n",
    "    #print(SS)\n",
    "\n",
    "    \n",
    "\n",
    "    Q, U = np.linalg.qr(SS)\n",
    "    #print(Q)\n",
    "    print(\"------------------\")\n",
    "    #print(U)\n",
    "    for i in range(U.shape[0]):\n",
    "        print(U[i,i])\n",
    "        \n",
    "    print(\"----------------------------------------\")"
   ]
  },
  {
   "cell_type": "code",
   "execution_count": 13,
   "metadata": {},
   "outputs": [
    {
     "ename": "NameError",
     "evalue": "name 'C_inverse' is not defined",
     "output_type": "error",
     "traceback": [
      "\u001b[1;31m---------------------------------------------------------------------------\u001b[0m",
      "\u001b[1;31mNameError\u001b[0m                                 Traceback (most recent call last)",
      "\u001b[1;32m<ipython-input-13-911d9daea0d3>\u001b[0m in \u001b[0;36m<module>\u001b[1;34m\u001b[0m\n\u001b[1;32m----> 1\u001b[1;33m \u001b[0mschur\u001b[0m\u001b[1;33m,\u001b[0m \u001b[0mC_inv\u001b[0m \u001b[1;33m=\u001b[0m \u001b[0mC_inverse\u001b[0m\u001b[1;33m(\u001b[0m\u001b[1;36m19\u001b[0m\u001b[1;33m,\u001b[0m\u001b[1;36m1\u001b[0m\u001b[1;33m,\u001b[0m\u001b[1;36m4\u001b[0m\u001b[1;33m)\u001b[0m\u001b[1;33m\u001b[0m\u001b[1;33m\u001b[0m\u001b[0m\n\u001b[0m\u001b[0;32m      2\u001b[0m \u001b[0mprint\u001b[0m\u001b[1;33m(\u001b[0m\u001b[0mschur\u001b[0m\u001b[1;33m)\u001b[0m\u001b[1;33m\u001b[0m\u001b[1;33m\u001b[0m\u001b[0m\n\u001b[0;32m      3\u001b[0m \u001b[0mprint\u001b[0m\u001b[1;33m(\u001b[0m\u001b[0mschur\u001b[0m\u001b[1;33m.\u001b[0m\u001b[0mshape\u001b[0m\u001b[1;33m)\u001b[0m\u001b[1;33m\u001b[0m\u001b[1;33m\u001b[0m\u001b[0m\n\u001b[0;32m      4\u001b[0m \u001b[1;33m\u001b[0m\u001b[0m\n\u001b[0;32m      5\u001b[0m \u001b[0mU\u001b[0m \u001b[1;33m=\u001b[0m \u001b[0mschur\u001b[0m\u001b[1;33m[\u001b[0m\u001b[1;36m0\u001b[0m\u001b[1;33m:\u001b[0m\u001b[1;36m3\u001b[0m\u001b[1;33m,\u001b[0m\u001b[1;36m0\u001b[0m\u001b[1;33m:\u001b[0m\u001b[1;36m3\u001b[0m\u001b[1;33m]\u001b[0m\u001b[1;33m\u001b[0m\u001b[1;33m\u001b[0m\u001b[0m\n",
      "\u001b[1;31mNameError\u001b[0m: name 'C_inverse' is not defined"
     ]
    }
   ],
   "source": [
    "schur, C_inv = C_inverse(19,1,4)\n",
    "print(schur)\n",
    "print(schur.shape)\n",
    "\n",
    "U = schur[0:3,0:3]\n",
    "print(np.linalg.det(U)!=0)\n",
    "M = schur[0:3,3:]\n",
    "L = schur[3:,0:3]\n",
    "K = schur[3:,3:]\n",
    "\n",
    "schur2 = K-L@(np.linalg.inv(U))@M\n",
    "print(schur2)\n",
    "print(np.linalg.det(schur2)!=0)\n",
    "\n",
    "U = schur2[0:2,0:2]\n",
    "print(np.linalg.det(U)!=0)\n",
    "M = schur2[0:2,2:]\n",
    "L = schur2[2:,0:2]\n",
    "K = schur2[2:,2:]\n",
    "\n",
    "schur3 = K-L@(np.linalg.inv(U))@M\n",
    "print(schur3)\n",
    "print(np.linalg.det(schur3)!=0)\n",
    "\n",
    "print(\"----------------------------------------\")\n",
    "\n",
    "Q, U = np.linalg.qr(schur)\n",
    "#print(Q)\n",
    "print(\"------------------\")\n",
    "for i in range(U.shape[0]):\n",
    "    print(U[i,i])"
   ]
  },
  {
   "cell_type": "code",
   "execution_count": 14,
   "metadata": {},
   "outputs": [
    {
     "ename": "NameError",
     "evalue": "name 'C_inverse' is not defined",
     "output_type": "error",
     "traceback": [
      "\u001b[1;31m---------------------------------------------------------------------------\u001b[0m",
      "\u001b[1;31mNameError\u001b[0m                                 Traceback (most recent call last)",
      "\u001b[1;32m<ipython-input-14-73537d362ddb>\u001b[0m in \u001b[0;36m<module>\u001b[1;34m\u001b[0m\n\u001b[1;32m----> 1\u001b[1;33m \u001b[0mschur\u001b[0m\u001b[1;33m,\u001b[0m \u001b[0mC_inv\u001b[0m \u001b[1;33m=\u001b[0m \u001b[0mC_inverse\u001b[0m\u001b[1;33m(\u001b[0m\u001b[1;36m27\u001b[0m\u001b[1;33m,\u001b[0m\u001b[1;36m3\u001b[0m\u001b[1;33m,\u001b[0m\u001b[1;36m4\u001b[0m\u001b[1;33m)\u001b[0m\u001b[1;33m\u001b[0m\u001b[1;33m\u001b[0m\u001b[0m\n\u001b[0m\u001b[0;32m      2\u001b[0m \u001b[0mprint\u001b[0m\u001b[1;33m(\u001b[0m\u001b[0mschur\u001b[0m\u001b[1;33m)\u001b[0m\u001b[1;33m\u001b[0m\u001b[1;33m\u001b[0m\u001b[0m\n\u001b[0;32m      3\u001b[0m \u001b[0mprint\u001b[0m\u001b[1;33m(\u001b[0m\u001b[0mschur\u001b[0m\u001b[1;33m.\u001b[0m\u001b[0mshape\u001b[0m\u001b[1;33m)\u001b[0m\u001b[1;33m\u001b[0m\u001b[1;33m\u001b[0m\u001b[0m\n\u001b[0;32m      4\u001b[0m \u001b[1;33m\u001b[0m\u001b[0m\n\u001b[0;32m      5\u001b[0m \u001b[0mU\u001b[0m \u001b[1;33m=\u001b[0m \u001b[0mschur\u001b[0m\u001b[1;33m[\u001b[0m\u001b[1;36m0\u001b[0m\u001b[1;33m:\u001b[0m\u001b[1;36m4\u001b[0m\u001b[1;33m,\u001b[0m\u001b[1;36m0\u001b[0m\u001b[1;33m:\u001b[0m\u001b[1;36m4\u001b[0m\u001b[1;33m]\u001b[0m\u001b[1;33m\u001b[0m\u001b[1;33m\u001b[0m\u001b[0m\n",
      "\u001b[1;31mNameError\u001b[0m: name 'C_inverse' is not defined"
     ]
    }
   ],
   "source": [
    "schur, C_inv = C_inverse(27,3,4)\n",
    "print(schur)\n",
    "print(schur.shape)\n",
    "\n",
    "U = schur[0:4,0:4]\n",
    "print(np.linalg.det(U)!=0)\n",
    "M = schur[0:4,4:]\n",
    "L = schur[4:,0:4]\n",
    "K = schur[4:,4:]\n",
    "\n",
    "schur2 = K-L@(np.linalg.inv(U))@M\n",
    "print(schur2)\n",
    "print(np.linalg.det(schur2)!=0)\n",
    "\n",
    "U = schur2[0:3,0:3]\n",
    "print(np.linalg.det(U)!=0)\n",
    "M = schur2[0:3,3:]\n",
    "L = schur2[3:,0:3]\n",
    "K = schur2[3:,3:]\n",
    "\n",
    "schur3 = K-L@(np.linalg.inv(U))@M\n",
    "print(schur3)\n",
    "print(np.linalg.det(schur3)!=0)\n",
    "\n",
    "U = schur3[0:2,0:2]\n",
    "print(np.linalg.det(U)!=0)\n",
    "M = schur3[0:2,2:]\n",
    "L = schur3[2:,0:2]\n",
    "K = schur3[2:,2:]\n",
    "\n",
    "schur4 = K-L@(np.linalg.inv(U))@M\n",
    "print(schur4)\n",
    "print(np.linalg.det(schur4)!=0)\n",
    "\n",
    "print(\"----------------------------------------\")\n",
    "\n",
    "Q, U = np.linalg.qr(schur)\n",
    "#print(Q)\n",
    "print(\"------------------\")\n",
    "for i in range(U.shape[0]):\n",
    "    print(U[i,i])"
   ]
  },
  {
   "cell_type": "code",
   "execution_count": 15,
   "metadata": {
    "scrolled": false
   },
   "outputs": [
    {
     "ename": "NameError",
     "evalue": "name 'C_inverse' is not defined",
     "output_type": "error",
     "traceback": [
      "\u001b[1;31m---------------------------------------------------------------------------\u001b[0m",
      "\u001b[1;31mNameError\u001b[0m                                 Traceback (most recent call last)",
      "\u001b[1;32m<ipython-input-15-4dba5974c9e9>\u001b[0m in \u001b[0;36m<module>\u001b[1;34m\u001b[0m\n\u001b[0;32m      1\u001b[0m \u001b[1;32mfor\u001b[0m \u001b[0mr\u001b[0m \u001b[1;32min\u001b[0m \u001b[0mrange\u001b[0m\u001b[1;33m(\u001b[0m\u001b[1;36m11\u001b[0m\u001b[1;33m,\u001b[0m\u001b[1;36m300\u001b[0m\u001b[1;33m,\u001b[0m\u001b[1;36m8\u001b[0m\u001b[1;33m)\u001b[0m\u001b[1;33m:\u001b[0m\u001b[1;33m\u001b[0m\u001b[1;33m\u001b[0m\u001b[0m\n\u001b[1;32m----> 2\u001b[1;33m     \u001b[0mschur\u001b[0m\u001b[1;33m,\u001b[0m \u001b[0mC_inv\u001b[0m \u001b[1;33m=\u001b[0m \u001b[0mC_inverse\u001b[0m\u001b[1;33m(\u001b[0m\u001b[0mr\u001b[0m\u001b[1;33m,\u001b[0m\u001b[1;36m3\u001b[0m\u001b[1;33m,\u001b[0m\u001b[1;36m4\u001b[0m\u001b[1;33m)\u001b[0m\u001b[1;33m\u001b[0m\u001b[1;33m\u001b[0m\u001b[0m\n\u001b[0m\u001b[0;32m      3\u001b[0m     \u001b[1;32mif\u001b[0m \u001b[0mschur\u001b[0m\u001b[1;33m[\u001b[0m\u001b[1;33m-\u001b[0m\u001b[1;36m1\u001b[0m\u001b[1;33m,\u001b[0m\u001b[1;33m-\u001b[0m\u001b[1;36m1\u001b[0m\u001b[1;33m]\u001b[0m \u001b[1;33m==\u001b[0m \u001b[1;36m0\u001b[0m\u001b[1;33m:\u001b[0m\u001b[1;33m\u001b[0m\u001b[1;33m\u001b[0m\u001b[0m\n\u001b[0;32m      4\u001b[0m         \u001b[0mprint\u001b[0m\u001b[1;33m(\u001b[0m\u001b[0mr\u001b[0m\u001b[1;33m)\u001b[0m\u001b[1;33m\u001b[0m\u001b[1;33m\u001b[0m\u001b[0m\n\u001b[0;32m      5\u001b[0m         \u001b[0mprint\u001b[0m\u001b[1;33m(\u001b[0m\u001b[0mschur\u001b[0m\u001b[1;33m[\u001b[0m\u001b[1;33m-\u001b[0m\u001b[1;36m1\u001b[0m\u001b[1;33m,\u001b[0m\u001b[1;33m-\u001b[0m\u001b[1;36m1\u001b[0m\u001b[1;33m]\u001b[0m\u001b[1;33m)\u001b[0m\u001b[1;33m\u001b[0m\u001b[1;33m\u001b[0m\u001b[0m\n",
      "\u001b[1;31mNameError\u001b[0m: name 'C_inverse' is not defined"
     ]
    }
   ],
   "source": [
    "for r in range(11,300,8):\n",
    "    schur, C_inv = C_inverse(r,3,4)\n",
    "    if schur[-1,-1] == 0:\n",
    "        print(r)\n",
    "        print(schur[-1,-1])\n",
    "        print(\"-------------------------------\")"
   ]
  },
  {
   "cell_type": "code",
   "execution_count": null,
   "metadata": {},
   "outputs": [],
   "source": [
    "R = RT(11,1,4)\n",
    "print(R)\n",
    "R[[1,2]] = R[[2,1]]\n",
    "print(R)"
   ]
  },
  {
   "cell_type": "code",
   "execution_count": null,
   "metadata": {},
   "outputs": [],
   "source": [
    "C, U, M, L, K = blocks_ROU(11,1,4)\n",
    "\n",
    "schur = K-L@(np.linalg.inv(U))@M\n",
    "\n",
    "print(schur)\n",
    "print(np.linalg.det(schur))"
   ]
  }
 ],
 "metadata": {
  "kernelspec": {
   "display_name": "Python 3",
   "language": "python",
   "name": "python3"
  },
  "language_info": {
   "codemirror_mode": {
    "name": "ipython",
    "version": 3
   },
   "file_extension": ".py",
   "mimetype": "text/x-python",
   "name": "python",
   "nbconvert_exporter": "python",
   "pygments_lexer": "ipython3",
   "version": "3.7.4"
  }
 },
 "nbformat": 4,
 "nbformat_minor": 2
}
